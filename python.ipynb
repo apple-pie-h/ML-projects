{
  "nbformat": 4,
  "nbformat_minor": 0,
  "metadata": {
    "colab": {
      "provenance": [],
      "authorship_tag": "ABX9TyOX3jEXWJY0uJJTC4sGrQdX",
      "include_colab_link": true
    },
    "kernelspec": {
      "name": "python3",
      "display_name": "Python 3"
    },
    "language_info": {
      "name": "python"
    }
  },
  "cells": [
    {
      "cell_type": "markdown",
      "metadata": {
        "id": "view-in-github",
        "colab_type": "text"
      },
      "source": [
        "<a href=\"https://colab.research.google.com/github/ray-bi-ka/ICES-ML/blob/main/python.ipynb\" target=\"_parent\"><img src=\"https://colab.research.google.com/assets/colab-badge.svg\" alt=\"Open In Colab\"/></a>"
      ]
    },
    {
      "cell_type": "markdown",
      "source": [
        "# **PYTHON**\n",
        "\n"
      ],
      "metadata": {
        "id": "T5TvRMoHyhcb"
      }
    },
    {
      "cell_type": "markdown",
      "source": [],
      "metadata": {
        "id": "Ifs6qFYHyu_O"
      }
    },
    {
      "cell_type": "code",
      "source": [],
      "metadata": {
        "id": "OU16fkkbyoJh"
      },
      "execution_count": null,
      "outputs": []
    }
  ]
}